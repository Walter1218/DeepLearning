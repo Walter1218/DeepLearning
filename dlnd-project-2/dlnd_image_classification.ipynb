{
 "cells": [
  {
   "cell_type": "markdown",
   "metadata": {
    "collapsed": true,
    "deletable": true,
    "editable": true
   },
   "source": [
    "# Image Classification\n",
    "In this project, you'll classify images from the [CIFAR-10 dataset](https://www.cs.toronto.edu/~kriz/cifar.html).  The dataset consists of airplanes, dogs, cats, and other objects. You'll preprocess the images, then train a convolutional neural network on all the samples. The images need to be normalized and the labels need to be one-hot encoded.  You'll get to apply what you learned and build a convolutional, max pooling, dropout, and fully connected layers.  At the end, you'll get to see your neural network's predictions on the sample images.\n",
    "## Get the Data\n",
    "Run the following cell to download the [CIFAR-10 dataset for python](https://www.cs.toronto.edu/~kriz/cifar-10-python.tar.gz)."
   ]
  },
  {
   "cell_type": "code",
   "execution_count": 1,
   "metadata": {
    "collapsed": false,
    "deletable": true,
    "editable": true
   },
   "outputs": [
    {
     "name": "stdout",
     "output_type": "stream",
     "text": [
      "All files found!\n"
     ]
    }
   ],
   "source": [
    "\"\"\"\n",
    "DON'T MODIFY ANYTHING IN THIS CELL THAT IS BELOW THIS LINE\n",
    "\"\"\"\n",
    "from urllib.request import urlretrieve\n",
    "from os.path import isfile, isdir\n",
    "from tqdm import tqdm\n",
    "import problem_unittests as tests\n",
    "import tarfile\n",
    "\n",
    "cifar10_dataset_folder_path = 'cifar-10-batches-py'\n",
    "\n",
    "class DLProgress(tqdm):\n",
    "    last_block = 0\n",
    "\n",
    "    def hook(self, block_num=1, block_size=1, total_size=None):\n",
    "        self.total = total_size\n",
    "        self.update((block_num - self.last_block) * block_size)\n",
    "        self.last_block = block_num\n",
    "\n",
    "if not isfile('cifar-10-python.tar.gz'):\n",
    "    with DLProgress(unit='B', unit_scale=True, miniters=1, desc='CIFAR-10 Dataset') as pbar:\n",
    "        urlretrieve(\n",
    "            'https://www.cs.toronto.edu/~kriz/cifar-10-python.tar.gz',\n",
    "            'cifar-10-python.tar.gz',\n",
    "            pbar.hook)\n",
    "\n",
    "if not isdir(cifar10_dataset_folder_path):\n",
    "    with tarfile.open('cifar-10-python.tar.gz') as tar:\n",
    "        tar.extractall()\n",
    "        tar.close()\n",
    "\n",
    "\n",
    "tests.test_folder_path(cifar10_dataset_folder_path)"
   ]
  },
  {
   "cell_type": "markdown",
   "metadata": {
    "deletable": true,
    "editable": true
   },
   "source": [
    "## Explore the Data\n",
    "The dataset is broken into batches to prevent your machine from running out of memory.  The CIFAR-10 dataset consists of 5 batches, named `data_batch_1`, `data_batch_2`, etc.. Each batch contains the labels and images that are one of the following:\n",
    "* airplane\n",
    "* automobile\n",
    "* bird\n",
    "* cat\n",
    "* deer\n",
    "* dog\n",
    "* frog\n",
    "* horse\n",
    "* ship\n",
    "* truck\n",
    "\n",
    "Understanding a dataset is part of making predictions on the data.  Play around with the code cell below by changing the `batch_id` and `sample_id`. The `batch_id` is the id for a batch (1-5). The `sample_id` is the id for a image and label pair in the batch.\n",
    "\n",
    "Ask yourself \"What are all possible labels?\", \"What is the range of values for the image data?\", \"Are the labels in order or random?\".  Answers to questions like these will help you preprocess the data and end up with better predictions."
   ]
  },
  {
   "cell_type": "code",
   "execution_count": 2,
   "metadata": {
    "collapsed": false,
    "deletable": true,
    "editable": true,
    "scrolled": true
   },
   "outputs": [
    {
     "name": "stdout",
     "output_type": "stream",
     "text": [
      "\n",
      "Stats of batch 1:\n",
      "Samples: 10000\n",
      "Label Counts: {0: 1005, 1: 974, 2: 1032, 3: 1016, 4: 999, 5: 937, 6: 1030, 7: 1001, 8: 1025, 9: 981}\n",
      "First 20 Labels: [6, 9, 9, 4, 1, 1, 2, 7, 8, 3, 4, 7, 7, 2, 9, 9, 9, 3, 2, 6]\n",
      "\n",
      "Example of Image 5:\n",
      "Image - Min Value: 0 Max Value: 252\n",
      "Image - Shape: (32, 32, 3)\n",
      "Label - Label Id: 1 Name: automobile\n"
     ]
    },
    {
     "data": {
      "image/png": "[encoded data removed]",
      "text/plain": [
       "<matplotlib.figure.Figure at 0x7f07db013828>"
      ]
     },
     "metadata": {
      "image/png": {
       "height": 250,
       "width": 253
      }
     },
     "output_type": "display_data"
    }
   ],
   "source": [
    "%matplotlib inline\n",
    "%config InlineBackend.figure_format = 'retina'\n",
    "\n",
    "import helper\n",
    "import numpy as np\n",
    "\n",
    "# Explore the dataset\n",
    "batch_id = 1\n",
    "sample_id = 5\n",
    "helper.display_stats(cifar10_dataset_folder_path, batch_id, sample_id)"
   ]
  },
  {
   "cell_type": "markdown",
   "metadata": {
    "deletable": true,
    "editable": true
   },
   "source": [
    "## Implement Preprocess Functions\n",
    "### Normalize\n",
    "In the cell below, implement the `normalize` function to take in image data, `x`, and return it as a normalized Numpy array. The values should be in the range of 0 to 1, inclusive.  The return object should be the same shape as `x`."
   ]
  },
  {
   "cell_type": "code",
   "execution_count": 3,
   "metadata": {
    "collapsed": false,
    "deletable": true,
    "editable": true
   },
   "outputs": [
    {
     "name": "stdout",
     "output_type": "stream",
     "text": [
      "Tests Passed\n"
     ]
    }
   ],
   "source": [
    "def normalize(x):\n",
    "    \"\"\"\n",
    "    Normalize a list of sample image data in the range of 0 to 1\n",
    "    : x: List of image data.  The image shape is (32, 32, 3)\n",
    "    : return: Numpy array of normalize data\n",
    "    \"\"\"\n",
    "    # TODO: Implement Function\n",
    "    normalize = np.array(x/255)\n",
    "    return normalize\n",
    "\n",
    "\n",
    "\"\"\"\n",
    "DON'T MODIFY ANYTHING IN THIS CELL THAT IS BELOW THIS LINE\n",
    "\"\"\"\n",
    "tests.test_normalize(normalize)"
   ]
  },
  {
   "cell_type": "markdown",
   "metadata": {
    "deletable": true,
    "editable": true
   },
   "source": [
    "### One-hot encode\n",
    "Just like the previous code cell, you'll be implementing a function for preprocessing.  This time, you'll implement the `one_hot_encode` function. The input, `x`, are a list of labels.  Implement the function to return the list of labels as One-Hot encoded Numpy array.  The possible values for labels are 0 to 9. The one-hot encoding function should return the same encoding for each value between each call to `one_hot_encode`.  Make sure to save the map of encodings outside the function.\n",
    "\n",
    "Hint: Don't reinvent the wheel."
   ]
  },
  {
   "cell_type": "code",
   "execution_count": 4,
   "metadata": {
    "collapsed": false,
    "deletable": true,
    "editable": true
   },
   "outputs": [
    {
     "name": "stdout",
     "output_type": "stream",
     "text": [
      "Tests Passed\n"
     ]
    }
   ],
   "source": [
    "def one_hot_encode(x):\n",
    "    \"\"\"\n",
    "    One hot encode a list of sample labels. Return a one-hot encoded vector for each label.\n",
    "    : x: List of sample Labels\n",
    "    : return: Numpy array of one-hot encoded labels\n",
    "    \"\"\"\n",
    "    # TODO: Implement Function\n",
    "    labels = []\n",
    "    for i in range(len(x)):\n",
    "        enc_label = np.zeros(10)\n",
    "        np.put(enc_label, x[i], 1)\n",
    "        labels.append(enc_label)\n",
    "    return np.array(labels)\n",
    "\n",
    "\n",
    "\"\"\"\n",
    "DON'T MODIFY ANYTHING IN THIS CELL THAT IS BELOW THIS LINE\n",
    "\"\"\"\n",
    "tests.test_one_hot_encode(one_hot_encode)"
   ]
  },
  {
   "cell_type": "markdown",
   "metadata": {
    "deletable": true,
    "editable": true
   },
   "source": [
    "### Randomize Data\n",
    "As you saw from exploring the data above, the order of the samples are randomized.  It doesn't hurt to randomize it again, but you don't need to for this dataset."
   ]
  },
  {
   "cell_type": "markdown",
   "metadata": {
    "deletable": true,
    "editable": true
   },
   "source": [
    "## Preprocess all the data and save it\n",
    "Running the code cell below will preprocess all the CIFAR-10 data and save it to file. The code below also uses 10% of the training data for validation."
   ]
  },
  {
   "cell_type": "code",
   "execution_count": 5,
   "metadata": {
    "collapsed": false,
    "deletable": true,
    "editable": true
   },
   "outputs": [],
   "source": [
    "\"\"\"\n",
    "DON'T MODIFY ANYTHING IN THIS CELL\n",
    "\"\"\"\n",
    "# Preprocess Training, Validation, and Testing Data\n",
    "helper.preprocess_and_save_data(cifar10_dataset_folder_path, normalize, one_hot_encode)"
   ]
  },
  {
   "cell_type": "markdown",
   "metadata": {
    "deletable": true,
    "editable": true
   },
   "source": [
    "# Check Point\n",
    "This is your first checkpoint.  If you ever decide to come back to this notebook or have to restart the notebook, you can start from here.  The preprocessed data has been saved to disk."
   ]
  },
  {
   "cell_type": "code",
   "execution_count": 6,
   "metadata": {
    "collapsed": true,
    "deletable": true,
    "editable": true
   },
   "outputs": [],
   "source": [
    "\"\"\"\n",
    "DON'T MODIFY ANYTHING IN THIS CELL\n",
    "\"\"\"\n",
    "import pickle\n",
    "import problem_unittests as tests\n",
    "import helper\n",
    "\n",
    "# Load the Preprocessed Validation data\n",
    "valid_features, valid_labels = pickle.load(open('preprocess_validation.p', mode='rb'))"
   ]
  },
  {
   "cell_type": "markdown",
   "metadata": {
    "deletable": true,
    "editable": true
   },
   "source": [
    "## Build the network\n",
    "For the neural network, you'll build each layer into a function.  Most of the code you've seen has been outside of functions. To test your code more thoroughly, we require that you put each layer in a function.  This allows us to give you better feedback and test for simple mistakes using our unittests before you submit your project.\n",
    "\n",
    "If you're finding it hard to dedicate enough time for this course a week, we've provided a small shortcut to this part of the project. In the next couple of problems, you'll have the option to use [TensorFlow Layers](https://www.tensorflow.org/api_docs/python/tf/layers) or [TensorFlow Layers (contrib)](https://www.tensorflow.org/api_guides/python/contrib.layers) to build each layer, except \"Convolutional & Max Pooling\" layer.  TF Layers is similar to Keras's and TFLearn's abstraction to layers, so it's easy to pickup.\n",
    "\n",
    "If you would like to get the most of this course, try to solve all the problems without TF Layers.  Let's begin!\n",
    "### Input\n",
    "The neural network needs to read the image data, one-hot encoded labels, and dropout keep probability. Implement the following functions\n",
    "* Implement `neural_net_image_input`\n",
    " * Return a [TF Placeholder](https://www.tensorflow.org/api_docs/python/tf/placeholder)\n",
    " * Set the shape using `image_shape` with batch size set to `None`.\n",
    " * Name the TensorFlow placeholder \"x\" using the TensorFlow `name` parameter in the [TF Placeholder](https://www.tensorflow.org/api_docs/python/tf/placeholder).\n",
    "* Implement `neural_net_label_input`\n",
    " * Return a [TF Placeholder](https://www.tensorflow.org/api_docs/python/tf/placeholder)\n",
    " * Set the shape using `n_classes` with batch size set to `None`.\n",
    " * Name the TensorFlow placeholder \"y\" using the TensorFlow `name` parameter in the [TF Placeholder](https://www.tensorflow.org/api_docs/python/tf/placeholder).\n",
    "* Implement `neural_net_keep_prob_input`\n",
    " * Return a [TF Placeholder](https://www.tensorflow.org/api_docs/python/tf/placeholder) for dropout keep probability.\n",
    " * Name the TensorFlow placeholder \"keep_prob\" using the TensorFlow `name` parameter in the [TF Placeholder](https://www.tensorflow.org/api_docs/python/tf/placeholder).\n",
    "\n",
    "These names will be used at the end of the project to load your saved model.\n",
    "\n",
    "Note: `None` for shapes in TensorFlow allow for a dynamic size."
   ]
  },
  {
   "cell_type": "code",
   "execution_count": 7,
   "metadata": {
    "collapsed": false,
    "deletable": true,
    "editable": true
   },
   "outputs": [
    {
     "name": "stdout",
     "output_type": "stream",
     "text": [
      "Image Input Tests Passed.\n",
      "Label Input Tests Passed.\n",
      "Keep Prob Tests Passed.\n"
     ]
    }
   ],
   "source": [
    "import tensorflow as tf\n",
    "\n",
    "def neural_net_image_input(image_shape):\n",
    "    \"\"\"\n",
    "    Return a Tensor for a bach of image input\n",
    "    : image_shape: Shape of the images\n",
    "    : return: Tensor for image input.\n",
    "    \"\"\"\n",
    "    # TODO: Implement Function\n",
    "    #the format here we use is N,H,W,C,[batch, in_height, in_weight, in_channel]\n",
    "    H,W,C = image_shape\n",
    "    return tf.placeholder(tf.float32, (None, H, W, C), name = \"x\")\n",
    "\n",
    "\n",
    "def neural_net_label_input(n_classes):\n",
    "    \"\"\"\n",
    "    Return a Tensor for a batch of label input\n",
    "    : n_classes: Number of classes\n",
    "    : return: Tensor for label input.\n",
    "    \"\"\"\n",
    "    # TODO: Implement Function\n",
    "    return tf.placeholder(tf.float32, (None, n_classes), name = \"y\")\n",
    "\n",
    "\n",
    "def neural_net_keep_prob_input():\n",
    "    \"\"\"\n",
    "    Return a Tensor for keep probability\n",
    "    : return: Tensor for keep probability.\n",
    "    \"\"\"\n",
    "    # TODO: Implement Function\n",
    "    return tf.placeholder(tf.float32, name = \"keep_prob\")\n",
    "\n",
    "\n",
    "\"\"\"\n",
    "DON'T MODIFY ANYTHING IN THIS CELL THAT IS BELOW THIS LINE\n",
    "\"\"\"\n",
    "tf.reset_default_graph()\n",
    "tests.test_nn_image_inputs(neural_net_image_input)\n",
    "tests.test_nn_label_inputs(neural_net_label_input)\n",
    "tests.test_nn_keep_prob_inputs(neural_net_keep_prob_input)"
   ]
  },
  {
   "cell_type": "markdown",
   "metadata": {
    "deletable": true,
    "editable": true
   },
   "source": [
    "### Convolution and Max Pooling Layer\n",
    "Convolution layers have a lot of success with images. For this code cell, you should implement the function `conv2d_maxpool` to apply convolution then max pooling:\n",
    "* Create the weight and bias using `conv_ksize`, `conv_num_outputs` and the shape of `x_tensor`.\n",
    "* Apply a convolution to `x_tensor` using weight and `conv_strides`.\n",
    " * We recommend you use same padding, but you're welcome to use any padding.\n",
    "* Add bias\n",
    "* Add a nonlinear activation to the convolution.\n",
    "* Apply Max Pooling using `pool_ksize` and `pool_strides`.\n",
    " * We recommend you use same padding, but you're welcome to use any padding.\n",
    "\n",
    "Note: You **can't** use [TensorFlow Layers](https://www.tensorflow.org/api_docs/python/tf/layers) or [TensorFlow Layers (contrib)](https://www.tensorflow.org/api_guides/python/contrib.layers) for this layer.  You're free to use any TensorFlow package for all the other layers."
   ]
  },
  {
   "cell_type": "code",
   "execution_count": 8,
   "metadata": {
    "collapsed": false,
    "deletable": true,
    "editable": true
   },
   "outputs": [
    {
     "name": "stdout",
     "output_type": "stream",
     "text": [
      "Tests Passed\n"
     ]
    }
   ],
   "source": [
    "def conv2d_maxpool(x_tensor, conv_num_outputs, conv_ksize, conv_strides, pool_ksize, pool_strides):\n",
    "    \"\"\"\n",
    "    Apply convolution then max pooling to x_tensor\n",
    "    :param x_tensor: TensorFlow Tensor\n",
    "    :param conv_num_outputs: Number of outputs for the convolutional layer\n",
    "    :param conv_strides: Stride 2-D Tuple for convolution\n",
    "    :param pool_ksize: kernal size 2-D Tuple for pool\n",
    "    :param pool_strides: Stride 2-D Tuple for pool\n",
    "    : return: A tensor that represents convolution and max pooling of x_tensor\n",
    "    \"\"\"\n",
    "    # TODO: Implement Function\n",
    "    #get convolution kernel size\n",
    "    conv_h,conv_w = conv_ksize\n",
    "    #get the output depth \n",
    "    output_depth = conv_num_outputs\n",
    "    #get [B,H,W,C] size, in_batch, in_height, in_weight, & in_depth\n",
    "    in_b, in_h, in_w, in_depth = x_tensor.shape\n",
    "    #get weights\n",
    "    #set mu & sigma\n",
    "    mu = 0.0\n",
    "    sigma = 0.1\n",
    "    F_W = tf.Variable(tf.truncated_normal([int(conv_h), int(conv_w), int(in_depth), int(output_depth)], mean = mu, stddev = sigma))\n",
    "    #get bias\n",
    "    F_B = tf.Variable(tf.zeros(int(output_depth)))\n",
    "    #convolution operation(do linear operation here)\n",
    "    s_h,s_w = conv_strides\n",
    "    padding = 'SAME'\n",
    "    conv = tf.nn.conv2d(x_tensor, F_W, [1, int(s_h), int(s_w), 1], padding) + F_B\n",
    "    conv = tf.nn.relu(conv)\n",
    "    pool_h, pool_w = pool_ksize\n",
    "    pool_h_s,pool_w_s = pool_strides\n",
    "    conv = tf.nn.max_pool(conv, [1, pool_h, pool_w, 1],[1, pool_h_s, pool_w_s, 1],padding)\n",
    "    \n",
    "    return conv\n",
    "\n",
    "\n",
    "\"\"\"\n",
    "DON'T MODIFY ANYTHING IN THIS CELL THAT IS BELOW THIS LINE\n",
    "\"\"\"\n",
    "tests.test_con_pool(conv2d_maxpool)"
   ]
  },
  {
   "cell_type": "markdown",
   "metadata": {
    "deletable": true,
    "editable": true
   },
   "source": [
    "### Flatten Layer\n",
    "Implement the `flatten` function to change the dimension of `x_tensor` from a 4-D tensor to a 2-D tensor.  The output should be the shape (*Batch Size*, *Flattened Image Size*). You can use [TensorFlow Layers](https://www.tensorflow.org/api_docs/python/tf/layers) or [TensorFlow Layers (contrib)](https://www.tensorflow.org/api_guides/python/contrib.layers) for this layer."
   ]
  },
  {
   "cell_type": "code",
   "execution_count": 9,
   "metadata": {
    "collapsed": false,
    "deletable": true,
    "editable": true
   },
   "outputs": [
    {
     "name": "stdout",
     "output_type": "stream",
     "text": [
      "Tests Passed\n"
     ]
    }
   ],
   "source": [
    "def flatten(x_tensor):\n",
    "    \"\"\"\n",
    "    Flatten x_tensor to (Batch Size, Flattened Image Size)\n",
    "    : x_tensor: A tensor of size (Batch Size, ...), where ... are the image dimensions.\n",
    "    : return: A tensor of size (Batch Size, Flattened Image Size).\n",
    "    \"\"\"\n",
    "    # TODO: Implement Function\n",
    "    in_b, in_h, in_w, in_depth = x_tensor.shape\n",
    "    fc = tf.reshape(x_tensor, [-1, int(in_h)*int(in_w)*int(in_depth)])\n",
    "    return fc#tf.contrib.layers.flatten(x_tensor)\n",
    "\n",
    "\n",
    "\"\"\"\n",
    "DON'T MODIFY ANYTHING IN THIS CELL THAT IS BELOW THIS LINE\n",
    "\"\"\"\n",
    "tests.test_flatten(flatten)"
   ]
  },
  {
   "cell_type": "markdown",
   "metadata": {
    "deletable": true,
    "editable": true
   },
   "source": [
    "### Fully-Connected Layer\n",
    "Implement the `fully_conn` function to apply a fully connected layer to `x_tensor` with the shape (*Batch Size*, *num_outputs*). You can use [TensorFlow Layers](https://www.tensorflow.org/api_docs/python/tf/layers) or [TensorFlow Layers (contrib)](https://www.tensorflow.org/api_guides/python/contrib.layers) for this layer."
   ]
  },
  {
   "cell_type": "code",
   "execution_count": 10,
   "metadata": {
    "collapsed": false,
    "deletable": true,
    "editable": true
   },
   "outputs": [
    {
     "name": "stdout",
     "output_type": "stream",
     "text": [
      "Tests Passed\n"
     ]
    }
   ],
   "source": [
    "def fully_conn(x_tensor, num_outputs):\n",
    "    \"\"\"\n",
    "    Apply a fully connected layer to x_tensor using weight and bias\n",
    "    : x_tensor: A 2-D tensor where the first dimension is batch size.\n",
    "    : num_outputs: The number of output that the new tensor should be.\n",
    "    : return: A 2-D tensor where the second dimension is num_outputs.\n",
    "    \"\"\"\n",
    "    # TODO: Implement Function\n",
    "    input_dim = x_tensor.get_shape().as_list()[1]\n",
    "    #set mu & sigma\n",
    "    mu = 0.0\n",
    "    sigma = 0.1\n",
    "    fc_W = tf.Variable(tf.truncated_normal(shape=(input_dim, num_outputs), mean = mu, stddev = sigma))\n",
    "    fc_b = tf.Variable(tf.zeros(num_outputs))\n",
    "    fc = tf.add(tf.matmul(x_tensor, fc_W) , fc_b)\n",
    "    fc = tf.nn.relu(fc)\n",
    "    return fc\n",
    "\n",
    "\n",
    "\"\"\"\n",
    "DON'T MODIFY ANYTHING IN THIS CELL THAT IS BELOW THIS LINE\n",
    "\"\"\"\n",
    "tests.test_fully_conn(fully_conn)"
   ]
  },
  {
   "cell_type": "markdown",
   "metadata": {
    "deletable": true,
    "editable": true
   },
   "source": [
    "### Output Layer\n",
    "Implement the `output` function to apply a fully connected layer to `x_tensor` with the shape (*Batch Size*, *num_outputs*). You can use [TensorFlow Layers](https://www.tensorflow.org/api_docs/python/tf/layers) or [TensorFlow Layers (contrib)](https://www.tensorflow.org/api_guides/python/contrib.layers) for this layer.\n",
    "\n",
    "Note: Activation, softmax, or cross entropy shouldn't be applied to this."
   ]
  },
  {
   "cell_type": "code",
   "execution_count": 11,
   "metadata": {
    "collapsed": false,
    "deletable": true,
    "editable": true
   },
   "outputs": [
    {
     "name": "stdout",
     "output_type": "stream",
     "text": [
      "Tests Passed\n"
     ]
    }
   ],
   "source": [
    "def output(x_tensor, num_outputs):\n",
    "    \"\"\"\n",
    "    Apply a output layer to x_tensor using weight and bias\n",
    "    : x_tensor: A 2-D tensor where the first dimension is batch size.\n",
    "    : num_outputs: The number of output that the new tensor should be.\n",
    "    : return: A 2-D tensor where the second dimension is num_outputs.\n",
    "    \"\"\"\n",
    "    # TODO: Implement Function\n",
    "    input_dim = x_tensor.get_shape().as_list()[1]\n",
    "    #set mu & sigma\n",
    "    mu = 0.0\n",
    "    sigma = 0.1\n",
    "    fc_W = tf.Variable(tf.truncated_normal(shape=(input_dim, num_outputs), mean = mu, stddev = sigma))\n",
    "    fc_b = tf.Variable(tf.zeros(num_outputs))\n",
    "    logits = tf.add(tf.matmul(x_tensor, fc_W) ,fc_b)\n",
    "    return logits\n",
    "\n",
    "\n",
    "\"\"\"\n",
    "DON'T MODIFY ANYTHING IN THIS CELL THAT IS BELOW THIS LINE\n",
    "\"\"\"\n",
    "tests.test_output(output)"
   ]
  },
  {
   "cell_type": "markdown",
   "metadata": {
    "deletable": true,
    "editable": true
   },
   "source": [
    "### Create Convolutional Model\n",
    "Implement the function `conv_net` to create a convolutional neural network model. The function takes in a batch of images, `x`, and outputs logits.  Use the layers you created above to create this model:\n",
    "\n",
    "* Apply 1, 2, or 3 Convolution and Max Pool layers\n",
    "* Apply a Flatten Layer\n",
    "* Apply 1, 2, or 3 Fully Connected Layers\n",
    "* Apply an Output Layer\n",
    "* Return the output\n",
    "* Apply [TensorFlow's Dropout](https://www.tensorflow.org/api_docs/python/tf/nn/dropout) to one or more layers in the model using `keep_prob`. "
   ]
  },
  {
   "cell_type": "code",
   "execution_count": 12,
   "metadata": {
    "collapsed": false,
    "deletable": true,
    "editable": true
   },
   "outputs": [
    {
     "name": "stdout",
     "output_type": "stream",
     "text": [
      "(?, 4, 4, 128)\n",
      "(?, 4, 4, 128)\n",
      "Neural Network Built!\n"
     ]
    }
   ],
   "source": [
    "def conv_net(x, keep_prob):\n",
    "    \"\"\"\n",
    "    Create a convolutional neural network model\n",
    "    : x: Placeholder tensor that holds image data.\n",
    "    : keep_prob: Placeholder tensor that hold dropout keep probability.\n",
    "    : return: Tensor that represents logits\n",
    "    \"\"\"\n",
    "    # TODO: Apply 1, 2, or 3 Convolution and Max Pool layers\n",
    "    #    Play around with different number of outputs, kernel size and stride\n",
    "    # Function Definition from Above:\n",
    "    #    conv2d_maxpool(x_tensor, conv_num_outputs, conv_ksize, conv_strides, pool_ksize, pool_strides)\n",
    "    conv_1 = conv2d_maxpool(x,32,[5,5],[1,1],[2,2],[2,2])\n",
    "    #print(conv_1.shape)\n",
    "    conv_1 = tf.nn.dropout(conv_1, keep_prob = keep_prob)\n",
    "    conv_2 = conv2d_maxpool(conv_1, 64, [3,3],[1,1],[2,2],[2,2])\n",
    "    #print(conv_2.shape)\n",
    "    conv_2 = tf.nn.dropout(conv_2, keep_prob = keep_prob)\n",
    "    conv_3 = conv2d_maxpool(conv_2, 128,[3,3],[1,1],[2,2],[2,2])\n",
    "    #print(conv_3.shape)\n",
    "    conv_3 = tf.nn.dropout(conv_3, keep_prob = keep_prob)\n",
    "    # TODO: Apply a Flatten Layer\n",
    "    # Function Definition from Above:\n",
    "    #   flatten(x_tensor)\n",
    "    fc0 = flatten(conv_3)\n",
    "    #print(keep_prob)\n",
    "    #fc0 = tf.nn.dropout(fc0, keep_prob = keep_prob)\n",
    "    # TODO: Apply 1, 2, or 3 Fully Connected Layers\n",
    "    #    Play around with different number of outputs\n",
    "    # Function Definition from Above:\n",
    "    #   fully_conn(x_tensor, num_outputs)\n",
    "    fc1 = fully_conn(fc0,512)\n",
    "    fc1 = tf.nn.dropout(fc1, keep_prob = keep_prob)\n",
    "    fc2 = fully_conn(fc1, 256)\n",
    "    fc2 = tf.nn.dropout(fc2, keep_prob = keep_prob)\n",
    "    #fc3 = fully_conn(fc2, 256)\n",
    "    # TODO: Apply an Output Layer\n",
    "    #    Set this to the number of classes\n",
    "    # Function Definition from Above:\n",
    "    #   output(x_tensor, num_outputs)\n",
    "    outputs = output(fc2, 10)\n",
    "    # TODO: return output\n",
    "    return outputs\n",
    "\n",
    "\n",
    "\"\"\"\n",
    "DON'T MODIFY ANYTHING IN THIS CELL THAT IS BELOW THIS LINE\n",
    "\"\"\"\n",
    "\n",
    "##############################\n",
    "## Build the Neural Network ##\n",
    "##############################\n",
    "\n",
    "# Remove previous weights, bias, inputs, etc..\n",
    "tf.reset_default_graph()\n",
    "\n",
    "# Inputs\n",
    "x = neural_net_image_input((32, 32, 3))\n",
    "y = neural_net_label_input(10)\n",
    "keep_prob = neural_net_keep_prob_input()\n",
    "\n",
    "# Model\n",
    "logits = conv_net(x, keep_prob)\n",
    "\n",
    "# Name logits Tensor, so that is can be loaded from disk after training\n",
    "logits = tf.identity(logits, name='logits')\n",
    "\n",
    "# Loss and Optimizer\n",
    "cost = tf.reduce_mean(tf.nn.softmax_cross_entropy_with_logits(logits=logits, labels=y))\n",
    "optimizer = tf.train.AdamOptimizer().minimize(cost)\n",
    "\n",
    "# Accuracy\n",
    "correct_pred = tf.equal(tf.argmax(logits, 1), tf.argmax(y, 1))\n",
    "accuracy = tf.reduce_mean(tf.cast(correct_pred, tf.float32), name='accuracy')\n",
    "\n",
    "tests.test_conv_net(conv_net)"
   ]
  },
  {
   "cell_type": "markdown",
   "metadata": {
    "deletable": true,
    "editable": true
   },
   "source": [
    "## Train the Neural Network\n",
    "### Single Optimization\n",
    "Implement the function `train_neural_network` to do a single optimization.  The optimization should use `optimizer` to optimize in `session` with a `feed_dict` of the following:\n",
    "* `x` for image input\n",
    "* `y` for labels\n",
    "* `keep_prob` for keep probability for dropout\n",
    "\n",
    "This function will be called for each batch, so `tf.global_variables_initializer()` has already been called.\n",
    "\n",
    "Note: Nothing needs to be returned. This function is only optimizing the neural network."
   ]
  },
  {
   "cell_type": "code",
   "execution_count": 13,
   "metadata": {
    "collapsed": false,
    "deletable": true,
    "editable": true
   },
   "outputs": [
    {
     "name": "stdout",
     "output_type": "stream",
     "text": [
      "Tests Passed\n"
     ]
    }
   ],
   "source": [
    "def train_neural_network(session, optimizer, keep_probability, feature_batch, label_batch):\n",
    "    \"\"\"\n",
    "    Optimize the session on a batch of images and labels\n",
    "    : session: Current TensorFlow session\n",
    "    : optimizer: TensorFlow optimizer function\n",
    "    : keep_probability: keep probability\n",
    "    : feature_batch: Batch of Numpy image data\n",
    "    : label_batch: Batch of Numpy label data\n",
    "    \"\"\"\n",
    "    # TODO: Implement Function\n",
    "    #print(keep_probability)\n",
    "    train_feed_dict = {\n",
    "                x: feature_batch,\n",
    "                y: label_batch,\n",
    "                keep_prob: keep_probability\n",
    "                }\n",
    "    session.run(optimizer, feed_dict = train_feed_dict)\n",
    "\n",
    "\n",
    "\"\"\"\n",
    "DON'T MODIFY ANYTHING IN THIS CELL THAT IS BELOW THIS LINE\n",
    "\"\"\"\n",
    "tests.test_train_nn(train_neural_network)"
   ]
  },
  {
   "cell_type": "markdown",
   "metadata": {
    "deletable": true,
    "editable": true
   },
   "source": [
    "### Show Stats\n",
    "Implement the function `print_stats` to print loss and validation accuracy.  Use the global variables `valid_features` and `valid_labels` to calculate validation accuracy.  Use a keep probability of `1.0` to calculate the loss and validation accuracy."
   ]
  },
  {
   "cell_type": "code",
   "execution_count": 14,
   "metadata": {
    "collapsed": false,
    "deletable": true,
    "editable": true
   },
   "outputs": [],
   "source": [
    "def print_stats(session, feature_batch, label_batch, cost, accuracy):\n",
    "    \"\"\"\n",
    "    Print information about loss and validation accuracy\n",
    "    : session: Current TensorFlow session\n",
    "    : feature_batch: Batch of Numpy image data\n",
    "    : label_batch: Batch of Numpy label data\n",
    "    : cost: TensorFlow cost function\n",
    "    : accuracy: TensorFlow accuracy function\n",
    "    \"\"\"\n",
    "    # TODO: Implement Function\n",
    "    curr_loss = session.run(cost, feed_dict={x: feature_batch, y: label_batch, keep_prob : 1.0})\n",
    "    valid_acc = session.run(accuracy, feed_dict = {x: valid_features,y: valid_labels, keep_prob : 1.0})\n",
    "    print(\"current session loss: {:.4f}, valid accuracy is: {:.4f}\".format(curr_loss, valid_acc))"
   ]
  },
  {
   "cell_type": "markdown",
   "metadata": {
    "deletable": true,
    "editable": true
   },
   "source": [
    "### Hyperparameters\n",
    "Tune the following parameters:\n",
    "* Set `epochs` to the number of iterations until the network stops learning or start overfitting\n",
    "* Set `batch_size` to the highest number that your machine has memory for.  Most people set them to common sizes of memory:\n",
    " * 64\n",
    " * 128\n",
    " * 256\n",
    " * ...\n",
    "* Set `keep_probability` to the probability of keeping a node using dropout"
   ]
  },
  {
   "cell_type": "code",
   "execution_count": 15,
   "metadata": {
    "collapsed": true,
    "deletable": true,
    "editable": true
   },
   "outputs": [],
   "source": [
    "# TODO: Tune Parameters\n",
    "epochs = 50\n",
    "batch_size = 128\n",
    "keep_probability = 0.7"
   ]
  },
  {
   "cell_type": "markdown",
   "metadata": {
    "deletable": true,
    "editable": true
   },
   "source": [
    "### Train on a Single CIFAR-10 Batch\n",
    "Instead of training the neural network on all the CIFAR-10 batches of data, let's use a single batch. This should save time while you iterate on the model to get a better accuracy.  Once the final validation accuracy is 50% or greater, run the model on all the data in the next section."
   ]
  },
  {
   "cell_type": "code",
   "execution_count": 16,
   "metadata": {
    "collapsed": false,
    "deletable": true,
    "editable": true
   },
   "outputs": [
    {
     "name": "stdout",
     "output_type": "stream",
     "text": [
      "Checking the Training on a Single Batch...\n",
      "Epoch  1, CIFAR-10 Batch 1:  current session loss: 2.2916, valid accuracy is: 0.1762\n",
      "Epoch  2, CIFAR-10 Batch 1:  current session loss: 2.1134, valid accuracy is: 0.2714\n",
      "Epoch  3, CIFAR-10 Batch 1:  current session loss: 2.0280, valid accuracy is: 0.3540\n",
      "Epoch  4, CIFAR-10 Batch 1:  current session loss: 1.9481, valid accuracy is: 0.3662\n",
      "Epoch  5, CIFAR-10 Batch 1:  current session loss: 1.8425, valid accuracy is: 0.4140\n",
      "Epoch  6, CIFAR-10 Batch 1:  current session loss: 1.7773, valid accuracy is: 0.4304\n",
      "Epoch  7, CIFAR-10 Batch 1:  current session loss: 1.7213, valid accuracy is: 0.4506\n",
      "Epoch  8, CIFAR-10 Batch 1:  current session loss: 1.6809, valid accuracy is: 0.4540\n",
      "Epoch  9, CIFAR-10 Batch 1:  current session loss: 1.6282, valid accuracy is: 0.4730\n",
      "Epoch 10, CIFAR-10 Batch 1:  current session loss: 1.5053, valid accuracy is: 0.4798\n",
      "Epoch 11, CIFAR-10 Batch 1:  current session loss: 1.4398, valid accuracy is: 0.4906\n",
      "Epoch 12, CIFAR-10 Batch 1:  current session loss: 1.3981, valid accuracy is: 0.4926\n",
      "Epoch 13, CIFAR-10 Batch 1:  current session loss: 1.3272, valid accuracy is: 0.5020\n",
      "Epoch 14, CIFAR-10 Batch 1:  current session loss: 1.3574, valid accuracy is: 0.5126\n",
      "Epoch 15, CIFAR-10 Batch 1:  current session loss: 1.2131, valid accuracy is: 0.5078\n",
      "Epoch 16, CIFAR-10 Batch 1:  current session loss: 1.1191, valid accuracy is: 0.5244\n",
      "Epoch 17, CIFAR-10 Batch 1:  current session loss: 1.1383, valid accuracy is: 0.5190\n",
      "Epoch 18, CIFAR-10 Batch 1:  current session loss: 1.0402, valid accuracy is: 0.5484\n",
      "Epoch 19, CIFAR-10 Batch 1:  current session loss: 0.9945, valid accuracy is: 0.5424\n",
      "Epoch 20, CIFAR-10 Batch 1:  current session loss: 0.9029, valid accuracy is: 0.5632\n",
      "Epoch 21, CIFAR-10 Batch 1:  current session loss: 0.8998, valid accuracy is: 0.5510\n",
      "Epoch 22, CIFAR-10 Batch 1:  current session loss: 0.8844, valid accuracy is: 0.5566\n",
      "Epoch 23, CIFAR-10 Batch 1:  current session loss: 0.7700, valid accuracy is: 0.5790\n",
      "Epoch 24, CIFAR-10 Batch 1:  current session loss: 0.7563, valid accuracy is: 0.5772\n",
      "Epoch 25, CIFAR-10 Batch 1:  current session loss: 0.7568, valid accuracy is: 0.5716\n",
      "Epoch 26, CIFAR-10 Batch 1:  current session loss: 0.6878, valid accuracy is: 0.5756\n",
      "Epoch 27, CIFAR-10 Batch 1:  current session loss: 0.6349, valid accuracy is: 0.6070\n",
      "Epoch 28, CIFAR-10 Batch 1:  current session loss: 0.5880, valid accuracy is: 0.6060\n",
      "Epoch 29, CIFAR-10 Batch 1:  current session loss: 0.5500, valid accuracy is: 0.6040\n",
      "Epoch 30, CIFAR-10 Batch 1:  current session loss: 0.5365, valid accuracy is: 0.6066\n",
      "Epoch 31, CIFAR-10 Batch 1:  current session loss: 0.5818, valid accuracy is: 0.6090\n",
      "Epoch 32, CIFAR-10 Batch 1:  current session loss: 0.4918, valid accuracy is: 0.6212\n",
      "Epoch 33, CIFAR-10 Batch 1:  current session loss: 0.4558, valid accuracy is: 0.6160\n",
      "Epoch 34, CIFAR-10 Batch 1:  current session loss: 0.4297, valid accuracy is: 0.6296\n",
      "Epoch 35, CIFAR-10 Batch 1:  current session loss: 0.4265, valid accuracy is: 0.6194\n",
      "Epoch 36, CIFAR-10 Batch 1:  current session loss: 0.3476, valid accuracy is: 0.6226\n",
      "Epoch 37, CIFAR-10 Batch 1:  current session loss: 0.3526, valid accuracy is: 0.6288\n",
      "Epoch 38, CIFAR-10 Batch 1:  current session loss: 0.3067, valid accuracy is: 0.6388\n",
      "Epoch 39, CIFAR-10 Batch 1:  current session loss: 0.2757, valid accuracy is: 0.6310\n",
      "Epoch 40, CIFAR-10 Batch 1:  current session loss: 0.2620, valid accuracy is: 0.6398\n",
      "Epoch 41, CIFAR-10 Batch 1:  current session loss: 0.2495, valid accuracy is: 0.6370\n",
      "Epoch 42, CIFAR-10 Batch 1:  current session loss: 0.2387, valid accuracy is: 0.6250\n",
      "Epoch 43, CIFAR-10 Batch 1:  current session loss: 0.2436, valid accuracy is: 0.6240\n",
      "Epoch 44, CIFAR-10 Batch 1:  current session loss: 0.1915, valid accuracy is: 0.6302\n",
      "Epoch 45, CIFAR-10 Batch 1:  current session loss: 0.1593, valid accuracy is: 0.6426\n",
      "Epoch 46, CIFAR-10 Batch 1:  current session loss: 0.1682, valid accuracy is: 0.6394\n",
      "Epoch 47, CIFAR-10 Batch 1:  current session loss: 0.1413, valid accuracy is: 0.6400\n",
      "Epoch 48, CIFAR-10 Batch 1:  current session loss: 0.1613, valid accuracy is: 0.6328\n",
      "Epoch 49, CIFAR-10 Batch 1:  current session loss: 0.1422, valid accuracy is: 0.6406\n",
      "Epoch 50, CIFAR-10 Batch 1:  current session loss: 0.1151, valid accuracy is: 0.6454\n"
     ]
    }
   ],
   "source": [
    "\"\"\"\n",
    "DON'T MODIFY ANYTHING IN THIS CELL\n",
    "\"\"\"\n",
    "print('Checking the Training on a Single Batch...')\n",
    "with tf.Session() as sess:\n",
    "    # Initializing the variables\n",
    "    sess.run(tf.global_variables_initializer())\n",
    "    \n",
    "    # Training cycle\n",
    "    for epoch in range(epochs):\n",
    "        batch_i = 1\n",
    "        for batch_features, batch_labels in helper.load_preprocess_training_batch(batch_i, batch_size):\n",
    "            train_neural_network(sess, optimizer, keep_probability, batch_features, batch_labels)\n",
    "        print('Epoch {:>2}, CIFAR-10 Batch {}:  '.format(epoch + 1, batch_i), end='')\n",
    "        print_stats(sess, batch_features, batch_labels, cost, accuracy)"
   ]
  },
  {
   "cell_type": "markdown",
   "metadata": {
    "deletable": true,
    "editable": true
   },
   "source": [
    "### Fully Train the Model\n",
    "Now that you got a good accuracy with a single CIFAR-10 batch, try it with all five batches."
   ]
  },
  {
   "cell_type": "code",
   "execution_count": 17,
   "metadata": {
    "collapsed": false,
    "deletable": true,
    "editable": true
   },
   "outputs": [
    {
     "name": "stdout",
     "output_type": "stream",
     "text": [
      "Training...\n",
      "Epoch  1, CIFAR-10 Batch 1:  current session loss: 2.2521, valid accuracy is: 0.2114\n",
      "Epoch  1, CIFAR-10 Batch 2:  current session loss: 2.0970, valid accuracy is: 0.2734\n",
      "Epoch  1, CIFAR-10 Batch 3:  current session loss: 1.8560, valid accuracy is: 0.3338\n",
      "Epoch  1, CIFAR-10 Batch 4:  current session loss: 1.7535, valid accuracy is: 0.3578\n",
      "Epoch  1, CIFAR-10 Batch 5:  current session loss: 1.7294, valid accuracy is: 0.4082\n",
      "Epoch  2, CIFAR-10 Batch 1:  current session loss: 1.8520, valid accuracy is: 0.4172\n",
      "Epoch  2, CIFAR-10 Batch 2:  current session loss: 1.6338, valid accuracy is: 0.4310\n",
      "Epoch  2, CIFAR-10 Batch 3:  current session loss: 1.5179, valid accuracy is: 0.4390\n",
      "Epoch  2, CIFAR-10 Batch 4:  current session loss: 1.4999, valid accuracy is: 0.4846\n",
      "Epoch  2, CIFAR-10 Batch 5:  current session loss: 1.5971, valid accuracy is: 0.4638\n",
      "Epoch  3, CIFAR-10 Batch 1:  current session loss: 1.6353, valid accuracy is: 0.4972\n",
      "Epoch  3, CIFAR-10 Batch 2:  current session loss: 1.4342, valid accuracy is: 0.4960\n",
      "Epoch  3, CIFAR-10 Batch 3:  current session loss: 1.2927, valid accuracy is: 0.4926\n",
      "Epoch  3, CIFAR-10 Batch 4:  current session loss: 1.4046, valid accuracy is: 0.5172\n",
      "Epoch  3, CIFAR-10 Batch 5:  current session loss: 1.5259, valid accuracy is: 0.4878\n",
      "Epoch  4, CIFAR-10 Batch 1:  current session loss: 1.4360, valid accuracy is: 0.5300\n",
      "Epoch  4, CIFAR-10 Batch 2:  current session loss: 1.4027, valid accuracy is: 0.4768\n",
      "Epoch  4, CIFAR-10 Batch 3:  current session loss: 1.2192, valid accuracy is: 0.5148\n",
      "Epoch  4, CIFAR-10 Batch 4:  current session loss: 1.3535, valid accuracy is: 0.5292\n",
      "Epoch  4, CIFAR-10 Batch 5:  current session loss: 1.4595, valid accuracy is: 0.4938\n",
      "Epoch  5, CIFAR-10 Batch 1:  current session loss: 1.2317, valid accuracy is: 0.5634\n",
      "Epoch  5, CIFAR-10 Batch 2:  current session loss: 1.2023, valid accuracy is: 0.5626\n",
      "Epoch  5, CIFAR-10 Batch 3:  current session loss: 1.0882, valid accuracy is: 0.5434\n",
      "Epoch  5, CIFAR-10 Batch 4:  current session loss: 1.0846, valid accuracy is: 0.5830\n",
      "Epoch  5, CIFAR-10 Batch 5:  current session loss: 1.2096, valid accuracy is: 0.5554\n",
      "Epoch  6, CIFAR-10 Batch 1:  current session loss: 1.1563, valid accuracy is: 0.6026\n",
      "Epoch  6, CIFAR-10 Batch 2:  current session loss: 1.0609, valid accuracy is: 0.5850\n",
      "Epoch  6, CIFAR-10 Batch 3:  current session loss: 1.0560, valid accuracy is: 0.5694\n",
      "Epoch  6, CIFAR-10 Batch 4:  current session loss: 1.0050, valid accuracy is: 0.6052\n",
      "Epoch  6, CIFAR-10 Batch 5:  current session loss: 1.0365, valid accuracy is: 0.6016\n",
      "Epoch  7, CIFAR-10 Batch 1:  current session loss: 1.0608, valid accuracy is: 0.6182\n",
      "Epoch  7, CIFAR-10 Batch 2:  current session loss: 1.0092, valid accuracy is: 0.6254\n",
      "Epoch  7, CIFAR-10 Batch 3:  current session loss: 0.8856, valid accuracy is: 0.6100\n",
      "Epoch  7, CIFAR-10 Batch 4:  current session loss: 0.8798, valid accuracy is: 0.6280\n",
      "Epoch  7, CIFAR-10 Batch 5:  current session loss: 1.0029, valid accuracy is: 0.6092\n",
      "Epoch  8, CIFAR-10 Batch 1:  current session loss: 1.0415, valid accuracy is: 0.6260\n",
      "Epoch  8, CIFAR-10 Batch 2:  current session loss: 1.0007, valid accuracy is: 0.6294\n",
      "Epoch  8, CIFAR-10 Batch 3:  current session loss: 0.8290, valid accuracy is: 0.6266\n",
      "Epoch  8, CIFAR-10 Batch 4:  current session loss: 0.8038, valid accuracy is: 0.6516\n",
      "Epoch  8, CIFAR-10 Batch 5:  current session loss: 0.8311, valid accuracy is: 0.6526\n",
      "Epoch  9, CIFAR-10 Batch 1:  current session loss: 0.9581, valid accuracy is: 0.6582\n",
      "Epoch  9, CIFAR-10 Batch 2:  current session loss: 0.8578, valid accuracy is: 0.6566\n",
      "Epoch  9, CIFAR-10 Batch 3:  current session loss: 0.7287, valid accuracy is: 0.6532\n",
      "Epoch  9, CIFAR-10 Batch 4:  current session loss: 0.7726, valid accuracy is: 0.6460\n",
      "Epoch  9, CIFAR-10 Batch 5:  current session loss: 0.8940, valid accuracy is: 0.6448\n",
      "Epoch 10, CIFAR-10 Batch 1:  current session loss: 0.8049, valid accuracy is: 0.6672\n",
      "Epoch 10, CIFAR-10 Batch 2:  current session loss: 0.8401, valid accuracy is: 0.6482\n",
      "Epoch 10, CIFAR-10 Batch 3:  current session loss: 0.6722, valid accuracy is: 0.6638\n",
      "Epoch 10, CIFAR-10 Batch 4:  current session loss: 0.7109, valid accuracy is: 0.6514\n",
      "Epoch 10, CIFAR-10 Batch 5:  current session loss: 0.7319, valid accuracy is: 0.6756\n",
      "Epoch 11, CIFAR-10 Batch 1:  current session loss: 0.7263, valid accuracy is: 0.6826\n",
      "Epoch 11, CIFAR-10 Batch 2:  current session loss: 0.6871, valid accuracy is: 0.6818\n",
      "Epoch 11, CIFAR-10 Batch 3:  current session loss: 0.5632, valid accuracy is: 0.6764\n",
      "Epoch 11, CIFAR-10 Batch 4:  current session loss: 0.7374, valid accuracy is: 0.6628\n",
      "Epoch 11, CIFAR-10 Batch 5:  current session loss: 0.7163, valid accuracy is: 0.6782\n",
      "Epoch 12, CIFAR-10 Batch 1:  current session loss: 0.6854, valid accuracy is: 0.6936\n",
      "Epoch 12, CIFAR-10 Batch 2:  current session loss: 0.6253, valid accuracy is: 0.6938\n",
      "Epoch 12, CIFAR-10 Batch 3:  current session loss: 0.6042, valid accuracy is: 0.6600\n",
      "Epoch 12, CIFAR-10 Batch 4:  current session loss: 0.5983, valid accuracy is: 0.6856\n",
      "Epoch 12, CIFAR-10 Batch 5:  current session loss: 0.6463, valid accuracy is: 0.6870\n",
      "Epoch 13, CIFAR-10 Batch 1:  current session loss: 0.5998, valid accuracy is: 0.6930\n",
      "Epoch 13, CIFAR-10 Batch 2:  current session loss: 0.6348, valid accuracy is: 0.6906\n",
      "Epoch 13, CIFAR-10 Batch 3:  current session loss: 0.5039, valid accuracy is: 0.6978\n",
      "Epoch 13, CIFAR-10 Batch 4:  current session loss: 0.5406, valid accuracy is: 0.7004\n",
      "Epoch 13, CIFAR-10 Batch 5:  current session loss: 0.6068, valid accuracy is: 0.6774\n",
      "Epoch 14, CIFAR-10 Batch 1:  current session loss: 0.5454, valid accuracy is: 0.7084\n",
      "Epoch 14, CIFAR-10 Batch 2:  current session loss: 0.6063, valid accuracy is: 0.7036\n",
      "Epoch 14, CIFAR-10 Batch 3:  current session loss: 0.4775, valid accuracy is: 0.6866\n",
      "Epoch 14, CIFAR-10 Batch 4:  current session loss: 0.5066, valid accuracy is: 0.6996\n",
      "Epoch 14, CIFAR-10 Batch 5:  current session loss: 0.5454, valid accuracy is: 0.6906\n",
      "Epoch 15, CIFAR-10 Batch 1:  current session loss: 0.5057, valid accuracy is: 0.7228\n",
      "Epoch 15, CIFAR-10 Batch 2:  current session loss: 0.6164, valid accuracy is: 0.6942\n",
      "Epoch 15, CIFAR-10 Batch 3:  current session loss: 0.3757, valid accuracy is: 0.7146\n",
      "Epoch 15, CIFAR-10 Batch 4:  current session loss: 0.3856, valid accuracy is: 0.7238\n",
      "Epoch 15, CIFAR-10 Batch 5:  current session loss: 0.6070, valid accuracy is: 0.6946\n",
      "Epoch 16, CIFAR-10 Batch 1:  current session loss: 0.4994, valid accuracy is: 0.7138\n",
      "Epoch 16, CIFAR-10 Batch 2:  current session loss: 0.5060, valid accuracy is: 0.7092\n",
      "Epoch 16, CIFAR-10 Batch 3:  current session loss: 0.4863, valid accuracy is: 0.6922\n",
      "Epoch 16, CIFAR-10 Batch 4:  current session loss: 0.4082, valid accuracy is: 0.7280\n",
      "Epoch 16, CIFAR-10 Batch 5:  current session loss: 0.5026, valid accuracy is: 0.6994\n",
      "Epoch 17, CIFAR-10 Batch 1:  current session loss: 0.4085, valid accuracy is: 0.7164\n",
      "Epoch 17, CIFAR-10 Batch 2:  current session loss: 0.5248, valid accuracy is: 0.7176\n",
      "Epoch 17, CIFAR-10 Batch 3:  current session loss: 0.3135, valid accuracy is: 0.7362\n",
      "Epoch 17, CIFAR-10 Batch 4:  current session loss: 0.3719, valid accuracy is: 0.7322\n",
      "Epoch 17, CIFAR-10 Batch 5:  current session loss: 0.4209, valid accuracy is: 0.7172\n",
      "Epoch 18, CIFAR-10 Batch 1:  current session loss: 0.4257, valid accuracy is: 0.7274\n",
      "Epoch 18, CIFAR-10 Batch 2:  current session loss: 0.5341, valid accuracy is: 0.7130\n",
      "Epoch 18, CIFAR-10 Batch 3:  current session loss: 0.3470, valid accuracy is: 0.7112\n",
      "Epoch 18, CIFAR-10 Batch 4:  current session loss: 0.3953, valid accuracy is: 0.7152\n",
      "Epoch 18, CIFAR-10 Batch 5:  current session loss: 0.4959, valid accuracy is: 0.7210\n",
      "Epoch 19, CIFAR-10 Batch 1:  current session loss: 0.3507, valid accuracy is: 0.7434\n",
      "Epoch 19, CIFAR-10 Batch 2:  current session loss: 0.4936, valid accuracy is: 0.7164\n",
      "Epoch 19, CIFAR-10 Batch 3:  current session loss: 0.2585, valid accuracy is: 0.7250\n",
      "Epoch 19, CIFAR-10 Batch 4:  current session loss: 0.3236, valid accuracy is: 0.7328\n",
      "Epoch 19, CIFAR-10 Batch 5:  current session loss: 0.4443, valid accuracy is: 0.7320\n",
      "Epoch 20, CIFAR-10 Batch 1:  current session loss: 0.3106, valid accuracy is: 0.7510\n",
      "Epoch 20, CIFAR-10 Batch 2:  current session loss: 0.3670, valid accuracy is: 0.7442\n",
      "Epoch 20, CIFAR-10 Batch 3:  current session loss: 0.2986, valid accuracy is: 0.7332\n",
      "Epoch 20, CIFAR-10 Batch 4:  current session loss: 0.2939, valid accuracy is: 0.7348\n",
      "Epoch 20, CIFAR-10 Batch 5:  current session loss: 0.3117, valid accuracy is: 0.7256\n",
      "Epoch 21, CIFAR-10 Batch 1:  current session loss: 0.2978, valid accuracy is: 0.7510\n",
      "Epoch 21, CIFAR-10 Batch 2:  current session loss: 0.4599, valid accuracy is: 0.7250\n",
      "Epoch 21, CIFAR-10 Batch 3:  current session loss: 0.2814, valid accuracy is: 0.7414\n",
      "Epoch 21, CIFAR-10 Batch 4:  current session loss: 0.2510, valid accuracy is: 0.7524\n",
      "Epoch 21, CIFAR-10 Batch 5:  current session loss: 0.3225, valid accuracy is: 0.7424\n",
      "Epoch 22, CIFAR-10 Batch 1:  current session loss: 0.2319, valid accuracy is: 0.7536\n",
      "Epoch 22, CIFAR-10 Batch 2:  current session loss: 0.4252, valid accuracy is: 0.7260\n",
      "Epoch 22, CIFAR-10 Batch 3:  current session loss: 0.2296, valid accuracy is: 0.7410\n",
      "Epoch 22, CIFAR-10 Batch 4:  current session loss: 0.2880, valid accuracy is: 0.7320\n",
      "Epoch 22, CIFAR-10 Batch 5:  current session loss: 0.3248, valid accuracy is: 0.7020\n",
      "Epoch 23, CIFAR-10 Batch 1:  current session loss: 0.2516, valid accuracy is: 0.7530\n",
      "Epoch 23, CIFAR-10 Batch 2:  current session loss: 0.3737, valid accuracy is: 0.7410\n",
      "Epoch 23, CIFAR-10 Batch 3:  current session loss: 0.1995, valid accuracy is: 0.7448\n",
      "Epoch 23, CIFAR-10 Batch 4:  current session loss: 0.2827, valid accuracy is: 0.7256\n",
      "Epoch 23, CIFAR-10 Batch 5:  current session loss: 0.2171, valid accuracy is: 0.7580\n",
      "Epoch 24, CIFAR-10 Batch 1:  current session loss: 0.2222, valid accuracy is: 0.7488\n",
      "Epoch 24, CIFAR-10 Batch 2:  current session loss: 0.3171, valid accuracy is: 0.7402\n",
      "Epoch 24, CIFAR-10 Batch 3:  current session loss: 0.1780, valid accuracy is: 0.7500\n",
      "Epoch 24, CIFAR-10 Batch 4:  current session loss: 0.1715, valid accuracy is: 0.7462\n",
      "Epoch 24, CIFAR-10 Batch 5:  current session loss: 0.2742, valid accuracy is: 0.7362\n",
      "Epoch 25, CIFAR-10 Batch 1:  current session loss: 0.2458, valid accuracy is: 0.7634\n",
      "Epoch 25, CIFAR-10 Batch 2:  current session loss: 0.3129, valid accuracy is: 0.7384\n",
      "Epoch 25, CIFAR-10 Batch 3:  current session loss: 0.1743, valid accuracy is: 0.7538\n",
      "Epoch 25, CIFAR-10 Batch 4:  current session loss: 0.2005, valid accuracy is: 0.7530\n",
      "Epoch 25, CIFAR-10 Batch 5:  current session loss: 0.2170, valid accuracy is: 0.7572\n",
      "Epoch 26, CIFAR-10 Batch 1:  current session loss: 0.2156, valid accuracy is: 0.7542\n",
      "Epoch 26, CIFAR-10 Batch 2:  current session loss: 0.3236, valid accuracy is: 0.7280\n",
      "Epoch 26, CIFAR-10 Batch 3:  current session loss: 0.1972, valid accuracy is: 0.7480\n",
      "Epoch 26, CIFAR-10 Batch 4:  current session loss: 0.1983, valid accuracy is: 0.7512\n",
      "Epoch 26, CIFAR-10 Batch 5:  current session loss: 0.1916, valid accuracy is: 0.7556\n",
      "Epoch 27, CIFAR-10 Batch 1:  current session loss: 0.1916, valid accuracy is: 0.7660\n",
      "Epoch 27, CIFAR-10 Batch 2:  current session loss: 0.1950, valid accuracy is: 0.7628\n",
      "Epoch 27, CIFAR-10 Batch 3:  current session loss: 0.1430, valid accuracy is: 0.7494\n",
      "Epoch 27, CIFAR-10 Batch 4:  current session loss: 0.1962, valid accuracy is: 0.7504\n",
      "Epoch 27, CIFAR-10 Batch 5:  current session loss: 0.1832, valid accuracy is: 0.7472\n",
      "Epoch 28, CIFAR-10 Batch 1:  current session loss: 0.2184, valid accuracy is: 0.7570\n",
      "Epoch 28, CIFAR-10 Batch 2:  current session loss: 0.2176, valid accuracy is: 0.7542\n",
      "Epoch 28, CIFAR-10 Batch 3:  current session loss: 0.1500, valid accuracy is: 0.7576\n",
      "Epoch 28, CIFAR-10 Batch 4:  current session loss: 0.1630, valid accuracy is: 0.7640\n",
      "Epoch 28, CIFAR-10 Batch 5:  current session loss: 0.1730, valid accuracy is: 0.7618\n",
      "Epoch 29, CIFAR-10 Batch 1:  current session loss: 0.1588, valid accuracy is: 0.7588\n",
      "Epoch 29, CIFAR-10 Batch 2:  current session loss: 0.2412, valid accuracy is: 0.7364\n",
      "Epoch 29, CIFAR-10 Batch 3:  current session loss: 0.1385, valid accuracy is: 0.7614\n",
      "Epoch 29, CIFAR-10 Batch 4:  current session loss: 0.1328, valid accuracy is: 0.7618\n",
      "Epoch 29, CIFAR-10 Batch 5:  current session loss: 0.1487, valid accuracy is: 0.7676\n",
      "Epoch 30, CIFAR-10 Batch 1:  current session loss: 0.1384, valid accuracy is: 0.7598\n",
      "Epoch 30, CIFAR-10 Batch 2:  current session loss: 0.2225, valid accuracy is: 0.7544\n",
      "Epoch 30, CIFAR-10 Batch 3:  current session loss: 0.1431, valid accuracy is: 0.7676\n",
      "Epoch 30, CIFAR-10 Batch 4:  current session loss: 0.1390, valid accuracy is: 0.7526\n",
      "Epoch 30, CIFAR-10 Batch 5:  current session loss: 0.1530, valid accuracy is: 0.7698\n",
      "Epoch 31, CIFAR-10 Batch 1:  current session loss: 0.1367, valid accuracy is: 0.7640\n",
      "Epoch 31, CIFAR-10 Batch 2:  current session loss: 0.1467, valid accuracy is: 0.7646\n",
      "Epoch 31, CIFAR-10 Batch 3:  current session loss: 0.1372, valid accuracy is: 0.7584\n",
      "Epoch 31, CIFAR-10 Batch 4:  current session loss: 0.1443, valid accuracy is: 0.7578\n",
      "Epoch 31, CIFAR-10 Batch 5:  current session loss: 0.1418, valid accuracy is: 0.7646\n",
      "Epoch 32, CIFAR-10 Batch 1:  current session loss: 0.1053, valid accuracy is: 0.7720\n",
      "Epoch 32, CIFAR-10 Batch 2:  current session loss: 0.1930, valid accuracy is: 0.7532\n",
      "Epoch 32, CIFAR-10 Batch 3:  current session loss: 0.1354, valid accuracy is: 0.7616\n",
      "Epoch 32, CIFAR-10 Batch 4:  current session loss: 0.1487, valid accuracy is: 0.7612\n",
      "Epoch 32, CIFAR-10 Batch 5:  current session loss: 0.1088, valid accuracy is: 0.7608\n",
      "Epoch 33, CIFAR-10 Batch 1:  current session loss: 0.1067, valid accuracy is: 0.7726\n",
      "Epoch 33, CIFAR-10 Batch 2:  current session loss: 0.1573, valid accuracy is: 0.7638\n",
      "Epoch 33, CIFAR-10 Batch 3:  current session loss: 0.1526, valid accuracy is: 0.7592\n",
      "Epoch 33, CIFAR-10 Batch 4:  current session loss: 0.1327, valid accuracy is: 0.7604\n",
      "Epoch 33, CIFAR-10 Batch 5:  current session loss: 0.1079, valid accuracy is: 0.7652\n",
      "Epoch 34, CIFAR-10 Batch 1:  current session loss: 0.0825, valid accuracy is: 0.7768\n",
      "Epoch 34, CIFAR-10 Batch 2:  current session loss: 0.1727, valid accuracy is: 0.7570\n",
      "Epoch 34, CIFAR-10 Batch 3:  current session loss: 0.1115, valid accuracy is: 0.7736\n",
      "Epoch 34, CIFAR-10 Batch 4:  current session loss: 0.1572, valid accuracy is: 0.7456\n",
      "Epoch 34, CIFAR-10 Batch 5:  current session loss: 0.1023, valid accuracy is: 0.7738\n",
      "Epoch 35, CIFAR-10 Batch 1:  current session loss: 0.0825, valid accuracy is: 0.7826\n",
      "Epoch 35, CIFAR-10 Batch 2:  current session loss: 0.1533, valid accuracy is: 0.7604\n",
      "Epoch 35, CIFAR-10 Batch 3:  current session loss: 0.1092, valid accuracy is: 0.7746\n",
      "Epoch 35, CIFAR-10 Batch 4:  current session loss: 0.1133, valid accuracy is: 0.7680\n",
      "Epoch 35, CIFAR-10 Batch 5:  current session loss: 0.1331, valid accuracy is: 0.7572\n",
      "Epoch 36, CIFAR-10 Batch 1:  current session loss: 0.0769, valid accuracy is: 0.7828\n",
      "Epoch 36, CIFAR-10 Batch 2:  current session loss: 0.1317, valid accuracy is: 0.7674\n",
      "Epoch 36, CIFAR-10 Batch 3:  current session loss: 0.1277, valid accuracy is: 0.7760\n",
      "Epoch 36, CIFAR-10 Batch 4:  current session loss: 0.1157, valid accuracy is: 0.7686\n",
      "Epoch 36, CIFAR-10 Batch 5:  current session loss: 0.1274, valid accuracy is: 0.7684\n",
      "Epoch 37, CIFAR-10 Batch 1:  current session loss: 0.0974, valid accuracy is: 0.7810\n",
      "Epoch 37, CIFAR-10 Batch 2:  current session loss: 0.1582, valid accuracy is: 0.7588\n",
      "Epoch 37, CIFAR-10 Batch 3:  current session loss: 0.1054, valid accuracy is: 0.7672\n",
      "Epoch 37, CIFAR-10 Batch 4:  current session loss: 0.0784, valid accuracy is: 0.7846\n",
      "Epoch 37, CIFAR-10 Batch 5:  current session loss: 0.1015, valid accuracy is: 0.7642\n",
      "Epoch 38, CIFAR-10 Batch 1:  current session loss: 0.0740, valid accuracy is: 0.7750\n",
      "Epoch 38, CIFAR-10 Batch 2:  current session loss: 0.1293, valid accuracy is: 0.7698\n",
      "Epoch 38, CIFAR-10 Batch 3:  current session loss: 0.1088, valid accuracy is: 0.7762\n",
      "Epoch 38, CIFAR-10 Batch 4:  current session loss: 0.0902, valid accuracy is: 0.7730\n",
      "Epoch 38, CIFAR-10 Batch 5:  current session loss: 0.0993, valid accuracy is: 0.7818\n",
      "Epoch 39, CIFAR-10 Batch 1:  current session loss: 0.0792, valid accuracy is: 0.7724\n",
      "Epoch 39, CIFAR-10 Batch 2:  current session loss: 0.1268, valid accuracy is: 0.7664\n",
      "Epoch 39, CIFAR-10 Batch 3:  current session loss: 0.0912, valid accuracy is: 0.7802\n",
      "Epoch 39, CIFAR-10 Batch 4:  current session loss: 0.0810, valid accuracy is: 0.7648\n",
      "Epoch 39, CIFAR-10 Batch 5:  current session loss: 0.0822, valid accuracy is: 0.7696\n",
      "Epoch 40, CIFAR-10 Batch 1:  current session loss: 0.0702, valid accuracy is: 0.7694\n",
      "Epoch 40, CIFAR-10 Batch 2:  current session loss: 0.1061, valid accuracy is: 0.7642\n",
      "Epoch 40, CIFAR-10 Batch 3:  current session loss: 0.0858, valid accuracy is: 0.7780\n",
      "Epoch 40, CIFAR-10 Batch 4:  current session loss: 0.0630, valid accuracy is: 0.7764\n",
      "Epoch 40, CIFAR-10 Batch 5:  current session loss: 0.0804, valid accuracy is: 0.7750\n",
      "Epoch 41, CIFAR-10 Batch 1:  current session loss: 0.0633, valid accuracy is: 0.7732\n",
      "Epoch 41, CIFAR-10 Batch 2:  current session loss: 0.0937, valid accuracy is: 0.7738\n",
      "Epoch 41, CIFAR-10 Batch 3:  current session loss: 0.0826, valid accuracy is: 0.7752\n",
      "Epoch 41, CIFAR-10 Batch 4:  current session loss: 0.1022, valid accuracy is: 0.7644\n",
      "Epoch 41, CIFAR-10 Batch 5:  current session loss: 0.0741, valid accuracy is: 0.7764\n",
      "Epoch 42, CIFAR-10 Batch 1:  current session loss: 0.0568, valid accuracy is: 0.7774\n",
      "Epoch 42, CIFAR-10 Batch 2:  current session loss: 0.0799, valid accuracy is: 0.7768\n",
      "Epoch 42, CIFAR-10 Batch 3:  current session loss: 0.0714, valid accuracy is: 0.7762\n",
      "Epoch 42, CIFAR-10 Batch 4:  current session loss: 0.0854, valid accuracy is: 0.7844\n",
      "Epoch 42, CIFAR-10 Batch 5:  current session loss: 0.0882, valid accuracy is: 0.7710\n",
      "Epoch 43, CIFAR-10 Batch 1:  current session loss: 0.0668, valid accuracy is: 0.7704\n",
      "Epoch 43, CIFAR-10 Batch 2:  current session loss: 0.0782, valid accuracy is: 0.7670\n",
      "Epoch 43, CIFAR-10 Batch 3:  current session loss: 0.0660, valid accuracy is: 0.7816\n",
      "Epoch 43, CIFAR-10 Batch 4:  current session loss: 0.0743, valid accuracy is: 0.7808\n",
      "Epoch 43, CIFAR-10 Batch 5:  current session loss: 0.0555, valid accuracy is: 0.7608\n",
      "Epoch 44, CIFAR-10 Batch 1:  current session loss: 0.0674, valid accuracy is: 0.7820\n",
      "Epoch 44, CIFAR-10 Batch 2:  current session loss: 0.1081, valid accuracy is: 0.7626\n",
      "Epoch 44, CIFAR-10 Batch 3:  current session loss: 0.0653, valid accuracy is: 0.7880\n",
      "Epoch 44, CIFAR-10 Batch 4:  current session loss: 0.0819, valid accuracy is: 0.7710\n",
      "Epoch 44, CIFAR-10 Batch 5:  current session loss: 0.0746, valid accuracy is: 0.7598\n",
      "Epoch 45, CIFAR-10 Batch 1:  current session loss: 0.0796, valid accuracy is: 0.7746\n",
      "Epoch 45, CIFAR-10 Batch 2:  current session loss: 0.0995, valid accuracy is: 0.7650\n",
      "Epoch 45, CIFAR-10 Batch 3:  current session loss: 0.0706, valid accuracy is: 0.7912\n",
      "Epoch 45, CIFAR-10 Batch 4:  current session loss: 0.0593, valid accuracy is: 0.7876\n",
      "Epoch 45, CIFAR-10 Batch 5:  current session loss: 0.0752, valid accuracy is: 0.7692\n",
      "Epoch 46, CIFAR-10 Batch 1:  current session loss: 0.0817, valid accuracy is: 0.7758\n",
      "Epoch 46, CIFAR-10 Batch 2:  current session loss: 0.1085, valid accuracy is: 0.7552\n",
      "Epoch 46, CIFAR-10 Batch 3:  current session loss: 0.0682, valid accuracy is: 0.7770\n",
      "Epoch 46, CIFAR-10 Batch 4:  current session loss: 0.0715, valid accuracy is: 0.7692\n",
      "Epoch 46, CIFAR-10 Batch 5:  current session loss: 0.0514, valid accuracy is: 0.7696\n",
      "Epoch 47, CIFAR-10 Batch 1:  current session loss: 0.0745, valid accuracy is: 0.7688\n",
      "Epoch 47, CIFAR-10 Batch 2:  current session loss: 0.0909, valid accuracy is: 0.7768\n",
      "Epoch 47, CIFAR-10 Batch 3:  current session loss: 0.0515, valid accuracy is: 0.7810\n",
      "Epoch 47, CIFAR-10 Batch 4:  current session loss: 0.0514, valid accuracy is: 0.7728\n",
      "Epoch 47, CIFAR-10 Batch 5:  current session loss: 0.0706, valid accuracy is: 0.7590\n",
      "Epoch 48, CIFAR-10 Batch 1:  current session loss: 0.0926, valid accuracy is: 0.7610\n",
      "Epoch 48, CIFAR-10 Batch 2:  current session loss: 0.0852, valid accuracy is: 0.7678\n",
      "Epoch 48, CIFAR-10 Batch 3:  current session loss: 0.0454, valid accuracy is: 0.7770\n",
      "Epoch 48, CIFAR-10 Batch 4:  current session loss: 0.0474, valid accuracy is: 0.7790\n",
      "Epoch 48, CIFAR-10 Batch 5:  current session loss: 0.0343, valid accuracy is: 0.7758\n",
      "Epoch 49, CIFAR-10 Batch 1:  current session loss: 0.0883, valid accuracy is: 0.7708\n",
      "Epoch 49, CIFAR-10 Batch 2:  current session loss: 0.0736, valid accuracy is: 0.7634\n",
      "Epoch 49, CIFAR-10 Batch 3:  current session loss: 0.0489, valid accuracy is: 0.7888\n",
      "Epoch 49, CIFAR-10 Batch 4:  current session loss: 0.0478, valid accuracy is: 0.7850\n",
      "Epoch 49, CIFAR-10 Batch 5:  current session loss: 0.0402, valid accuracy is: 0.7756\n",
      "Epoch 50, CIFAR-10 Batch 1:  current session loss: 0.0708, valid accuracy is: 0.7824\n",
      "Epoch 50, CIFAR-10 Batch 2:  current session loss: 0.0751, valid accuracy is: 0.7712\n",
      "Epoch 50, CIFAR-10 Batch 3:  current session loss: 0.0562, valid accuracy is: 0.7854\n",
      "Epoch 50, CIFAR-10 Batch 4:  current session loss: 0.0469, valid accuracy is: 0.7818\n",
      "Epoch 50, CIFAR-10 Batch 5:  current session loss: 0.0481, valid accuracy is: 0.7784\n"
     ]
    }
   ],
   "source": [
    "\"\"\"\n",
    "DON'T MODIFY ANYTHING IN THIS CELL\n",
    "\"\"\"\n",
    "save_model_path = './image_classification'\n",
    "\n",
    "print('Training...')\n",
    "with tf.Session() as sess:\n",
    "    # Initializing the variables\n",
    "    sess.run(tf.global_variables_initializer())\n",
    "    \n",
    "    # Training cycle\n",
    "    for epoch in range(epochs):\n",
    "        # Loop over all batches\n",
    "        n_batches = 5\n",
    "        for batch_i in range(1, n_batches + 1):\n",
    "            for batch_features, batch_labels in helper.load_preprocess_training_batch(batch_i, batch_size):\n",
    "                train_neural_network(sess, optimizer, keep_probability, batch_features, batch_labels)\n",
    "            print('Epoch {:>2}, CIFAR-10 Batch {}:  '.format(epoch + 1, batch_i), end='')\n",
    "            print_stats(sess, batch_features, batch_labels, cost, accuracy)\n",
    "            \n",
    "    # Save Model\n",
    "    saver = tf.train.Saver()\n",
    "    save_path = saver.save(sess, save_model_path)"
   ]
  },
  {
   "cell_type": "markdown",
   "metadata": {
    "deletable": true,
    "editable": true
   },
   "source": [
    "# Checkpoint\n",
    "The model has been saved to disk.\n",
    "## Test Model\n",
    "Test your model against the test dataset.  This will be your final accuracy. You should have an accuracy greater than 50%. If you don't, keep tweaking the model architecture and parameters."
   ]
  },
  {
   "cell_type": "code",
   "execution_count": 18,
   "metadata": {
    "collapsed": false,
    "deletable": true,
    "editable": true
   },
   "outputs": [
    {
     "name": "stdout",
     "output_type": "stream",
     "text": [
      "Testing Accuracy: 0.7640427215189873\n",
      "\n"
     ]
    },
    {
     "data": {
      "image/png": "[encoded data removed]",
      "text/plain": [
       "<matplotlib.figure.Figure at 0x7f0840af2da0>"
      ]
     },
     "metadata": {
      "image/png": {
       "height": 319,
       "width": 355
      }
     },
     "output_type": "display_data"
    }
   ],
   "source": [
    "\"\"\"\n",
    "DON'T MODIFY ANYTHING IN THIS CELL\n",
    "\"\"\"\n",
    "%matplotlib inline\n",
    "%config InlineBackend.figure_format = 'retina'\n",
    "\n",
    "import tensorflow as tf\n",
    "import pickle\n",
    "import helper\n",
    "import random\n",
    "\n",
    "# Set batch size if not already set\n",
    "try:\n",
    "    if batch_size:\n",
    "        pass\n",
    "except NameError:\n",
    "    batch_size = 64\n",
    "\n",
    "save_model_path = './image_classification'\n",
    "n_samples = 4\n",
    "top_n_predictions = 3\n",
    "\n",
    "def test_model():\n",
    "    \"\"\"\n",
    "    Test the saved model against the test dataset\n",
    "    \"\"\"\n",
    "\n",
    "    test_features, test_labels = pickle.load(open('preprocess_training.p', mode='rb'))\n",
    "    loaded_graph = tf.Graph()\n",
    "\n",
    "    with tf.Session(graph=loaded_graph) as sess:\n",
    "        # Load model\n",
    "        loader = tf.train.import_meta_graph(save_model_path + '.meta')\n",
    "        loader.restore(sess, save_model_path)\n",
    "\n",
    "        # Get Tensors from loaded model\n",
    "        loaded_x = loaded_graph.get_tensor_by_name('x:0')\n",
    "        loaded_y = loaded_graph.get_tensor_by_name('y:0')\n",
    "        loaded_keep_prob = loaded_graph.get_tensor_by_name('keep_prob:0')\n",
    "        loaded_logits = loaded_graph.get_tensor_by_name('logits:0')\n",
    "        loaded_acc = loaded_graph.get_tensor_by_name('accuracy:0')\n",
    "        \n",
    "        # Get accuracy in batches for memory limitations\n",
    "        test_batch_acc_total = 0\n",
    "        test_batch_count = 0\n",
    "        \n",
    "        for train_feature_batch, train_label_batch in helper.batch_features_labels(test_features, test_labels, batch_size):\n",
    "            test_batch_acc_total += sess.run(\n",
    "                loaded_acc,\n",
    "                feed_dict={loaded_x: train_feature_batch, loaded_y: train_label_batch, loaded_keep_prob: 1.0})\n",
    "            test_batch_count += 1\n",
    "\n",
    "        print('Testing Accuracy: {}\\n'.format(test_batch_acc_total/test_batch_count))\n",
    "\n",
    "        # Print Random Samples\n",
    "        random_test_features, random_test_labels = tuple(zip(*random.sample(list(zip(test_features, test_labels)), n_samples)))\n",
    "        random_test_predictions = sess.run(\n",
    "            tf.nn.top_k(tf.nn.softmax(loaded_logits), top_n_predictions),\n",
    "            feed_dict={loaded_x: random_test_features, loaded_y: random_test_labels, loaded_keep_prob: 1.0})\n",
    "        helper.display_image_predictions(random_test_features, random_test_labels, random_test_predictions)\n",
    "\n",
    "\n",
    "test_model()"
   ]
  },
  {
   "cell_type": "markdown",
   "metadata": {
    "deletable": true,
    "editable": true
   },
   "source": [
    "## Why 50-70% Accuracy?\n",
    "You might be wondering why you can't get an accuracy any higher. First things first, 50% isn't bad for a simple CNN.  Pure guessing would get you 10% accuracy. However, you might notice people are getting scores [well above 70%](http://rodrigob.github.io/are_we_there_yet/build/classification_datasets_results.html#43494641522d3130).  That's because we haven't taught you all there is to know about neural networks. We still need to cover a few more techniques.\n",
    "## Submitting This Project\n",
    "When submitting this project, make sure to run all the cells before saving the notebook.  Save the notebook file as \"dlnd_image_classification.ipynb\" and save it as a HTML file under \"File\" -> \"Download as\".  Include the \"helper.py\" and \"problem_unittests.py\" files in your submission."
   ]
  }
 ],
 "metadata": {
  "anaconda-cloud": {},
  "kernelspec": {
   "display_name": "Python 3",
   "language": "python",
   "name": "python3"
  },
  "language_info": {
   "codemirror_mode": {
    "name": "ipython",
    "version": 3
   },
   "file_extension": ".py",
   "mimetype": "text/x-python",
   "name": "python",
   "nbconvert_exporter": "python",
   "pygments_lexer": "ipython3",
   "version": "3.5.2"
  },
  "widgets": {
   "state": {},
   "version": "1.1.2"
  }
 },
 "nbformat": 4,
 "nbformat_minor": 0
}
